{
 "cells": [
  {
   "cell_type": "markdown",
   "id": "3a709770",
   "metadata": {},
   "source": [
    "\n",
    "# Welcome to my first Data Science project \n",
    "\n",
    "### by Antoine Presty\n",
    "                                      \n",
    "                "
   ]
  },
  {
   "cell_type": "markdown",
   "id": "581f08cf",
   "metadata": {},
   "source": [
    "## Overview : \n",
    " **The goal is to extract 911 calls data (from Kaggle), then explore and display this data in graph in order to bring out as much information as possible**.\n"
   ]
  },
  {
   "cell_type": "markdown",
   "id": "e3237d9c",
   "metadata": {},
   "source": [
    "## Setup"
   ]
  },
  {
   "cell_type": "code",
   "execution_count": 88,
   "id": "2b42185d",
   "metadata": {},
   "outputs": [],
   "source": [
    "import numpy as np\n",
    "import pandas as pd\n",
    "import seaborn as sns\n",
    "import matplotlib.pyplot as plt\n",
    "%matplotlib inline"
   ]
  },
  {
   "cell_type": "code",
   "execution_count": 89,
   "id": "c423680f",
   "metadata": {},
   "outputs": [],
   "source": [
    "df = pd.read_csv(\"911.csv\")"
   ]
  },
  {
   "cell_type": "code",
   "execution_count": 90,
   "id": "9d71b0ab",
   "metadata": {
    "scrolled": true
   },
   "outputs": [
    {
     "name": "stdout",
     "output_type": "stream",
     "text": [
      "<class 'pandas.core.frame.DataFrame'>\n",
      "RangeIndex: 663522 entries, 0 to 663521\n",
      "Data columns (total 9 columns):\n",
      " #   Column     Non-Null Count   Dtype  \n",
      "---  ------     --------------   -----  \n",
      " 0   lat        663522 non-null  float64\n",
      " 1   lng        663522 non-null  float64\n",
      " 2   desc       663522 non-null  object \n",
      " 3   zip        583323 non-null  float64\n",
      " 4   title      663522 non-null  object \n",
      " 5   timeStamp  663522 non-null  object \n",
      " 6   twp        663229 non-null  object \n",
      " 7   addr       663522 non-null  object \n",
      " 8   e          663522 non-null  int64  \n",
      "dtypes: float64(3), int64(1), object(5)\n",
      "memory usage: 45.6+ MB\n"
     ]
    }
   ],
   "source": [
    "df.info()"
   ]
  },
  {
   "cell_type": "code",
   "execution_count": 91,
   "id": "a59a0dbb",
   "metadata": {},
   "outputs": [
    {
     "data": {
      "text/html": [
       "<div>\n",
       "<style scoped>\n",
       "    .dataframe tbody tr th:only-of-type {\n",
       "        vertical-align: middle;\n",
       "    }\n",
       "\n",
       "    .dataframe tbody tr th {\n",
       "        vertical-align: top;\n",
       "    }\n",
       "\n",
       "    .dataframe thead th {\n",
       "        text-align: right;\n",
       "    }\n",
       "</style>\n",
       "<table border=\"1\" class=\"dataframe\">\n",
       "  <thead>\n",
       "    <tr style=\"text-align: right;\">\n",
       "      <th></th>\n",
       "      <th>lat</th>\n",
       "      <th>lng</th>\n",
       "      <th>desc</th>\n",
       "      <th>zip</th>\n",
       "      <th>title</th>\n",
       "      <th>timeStamp</th>\n",
       "      <th>twp</th>\n",
       "      <th>addr</th>\n",
       "      <th>e</th>\n",
       "    </tr>\n",
       "  </thead>\n",
       "  <tbody>\n",
       "    <tr>\n",
       "      <th>0</th>\n",
       "      <td>40.297876</td>\n",
       "      <td>-75.581294</td>\n",
       "      <td>REINDEER CT &amp; DEAD END;  NEW HANOVER; Station ...</td>\n",
       "      <td>19525.0</td>\n",
       "      <td>EMS: BACK PAINS/INJURY</td>\n",
       "      <td>2015-12-10 17:10:52</td>\n",
       "      <td>NEW HANOVER</td>\n",
       "      <td>REINDEER CT &amp; DEAD END</td>\n",
       "      <td>1</td>\n",
       "    </tr>\n",
       "    <tr>\n",
       "      <th>1</th>\n",
       "      <td>40.258061</td>\n",
       "      <td>-75.264680</td>\n",
       "      <td>BRIAR PATH &amp; WHITEMARSH LN;  HATFIELD TOWNSHIP...</td>\n",
       "      <td>19446.0</td>\n",
       "      <td>EMS: DIABETIC EMERGENCY</td>\n",
       "      <td>2015-12-10 17:29:21</td>\n",
       "      <td>HATFIELD TOWNSHIP</td>\n",
       "      <td>BRIAR PATH &amp; WHITEMARSH LN</td>\n",
       "      <td>1</td>\n",
       "    </tr>\n",
       "    <tr>\n",
       "      <th>2</th>\n",
       "      <td>40.121182</td>\n",
       "      <td>-75.351975</td>\n",
       "      <td>HAWS AVE; NORRISTOWN; 2015-12-10 @ 14:39:21-St...</td>\n",
       "      <td>19401.0</td>\n",
       "      <td>Fire: GAS-ODOR/LEAK</td>\n",
       "      <td>2015-12-10 14:39:21</td>\n",
       "      <td>NORRISTOWN</td>\n",
       "      <td>HAWS AVE</td>\n",
       "      <td>1</td>\n",
       "    </tr>\n",
       "    <tr>\n",
       "      <th>3</th>\n",
       "      <td>40.116153</td>\n",
       "      <td>-75.343513</td>\n",
       "      <td>AIRY ST &amp; SWEDE ST;  NORRISTOWN; Station 308A;...</td>\n",
       "      <td>19401.0</td>\n",
       "      <td>EMS: CARDIAC EMERGENCY</td>\n",
       "      <td>2015-12-10 16:47:36</td>\n",
       "      <td>NORRISTOWN</td>\n",
       "      <td>AIRY ST &amp; SWEDE ST</td>\n",
       "      <td>1</td>\n",
       "    </tr>\n",
       "    <tr>\n",
       "      <th>4</th>\n",
       "      <td>40.251492</td>\n",
       "      <td>-75.603350</td>\n",
       "      <td>CHERRYWOOD CT &amp; DEAD END;  LOWER POTTSGROVE; S...</td>\n",
       "      <td>NaN</td>\n",
       "      <td>EMS: DIZZINESS</td>\n",
       "      <td>2015-12-10 16:56:52</td>\n",
       "      <td>LOWER POTTSGROVE</td>\n",
       "      <td>CHERRYWOOD CT &amp; DEAD END</td>\n",
       "      <td>1</td>\n",
       "    </tr>\n",
       "  </tbody>\n",
       "</table>\n",
       "</div>"
      ],
      "text/plain": [
       "         lat        lng                                               desc  \\\n",
       "0  40.297876 -75.581294  REINDEER CT & DEAD END;  NEW HANOVER; Station ...   \n",
       "1  40.258061 -75.264680  BRIAR PATH & WHITEMARSH LN;  HATFIELD TOWNSHIP...   \n",
       "2  40.121182 -75.351975  HAWS AVE; NORRISTOWN; 2015-12-10 @ 14:39:21-St...   \n",
       "3  40.116153 -75.343513  AIRY ST & SWEDE ST;  NORRISTOWN; Station 308A;...   \n",
       "4  40.251492 -75.603350  CHERRYWOOD CT & DEAD END;  LOWER POTTSGROVE; S...   \n",
       "\n",
       "       zip                    title            timeStamp                twp  \\\n",
       "0  19525.0   EMS: BACK PAINS/INJURY  2015-12-10 17:10:52        NEW HANOVER   \n",
       "1  19446.0  EMS: DIABETIC EMERGENCY  2015-12-10 17:29:21  HATFIELD TOWNSHIP   \n",
       "2  19401.0      Fire: GAS-ODOR/LEAK  2015-12-10 14:39:21         NORRISTOWN   \n",
       "3  19401.0   EMS: CARDIAC EMERGENCY  2015-12-10 16:47:36         NORRISTOWN   \n",
       "4      NaN           EMS: DIZZINESS  2015-12-10 16:56:52   LOWER POTTSGROVE   \n",
       "\n",
       "                         addr  e  \n",
       "0      REINDEER CT & DEAD END  1  \n",
       "1  BRIAR PATH & WHITEMARSH LN  1  \n",
       "2                    HAWS AVE  1  \n",
       "3          AIRY ST & SWEDE ST  1  \n",
       "4    CHERRYWOOD CT & DEAD END  1  "
      ]
     },
     "execution_count": 91,
     "metadata": {},
     "output_type": "execute_result"
    }
   ],
   "source": [
    "df.head()"
   ]
  },
  {
   "cell_type": "markdown",
   "id": "7539df38",
   "metadata": {},
   "source": [
    "## Data exploration"
   ]
  },
  {
   "cell_type": "markdown",
   "id": "214eaf33",
   "metadata": {},
   "source": [
    "**In this section, I will be exploring the data in order to analyze it and find some correlation between them.**"
   ]
  },
  {
   "cell_type": "markdown",
   "id": "55acf61e",
   "metadata": {},
   "source": [
    "### Top 5 townships for 911 calls"
   ]
  },
  {
   "cell_type": "code",
   "execution_count": 92,
   "id": "fadeb4a5",
   "metadata": {},
   "outputs": [
    {
     "data": {
      "text/plain": [
       "LOWER MERION    55490\n",
       "ABINGTON        39947\n",
       "NORRISTOWN      37633\n",
       "UPPER MERION    36010\n",
       "CHELTENHAM      30574\n",
       "Name: twp, dtype: int64"
      ]
     },
     "execution_count": 92,
     "metadata": {},
     "output_type": "execute_result"
    }
   ],
   "source": [
    "df['twp'].value_counts().head(5) "
   ]
  },
  {
   "cell_type": "code",
   "execution_count": 93,
   "id": "286989ae",
   "metadata": {},
   "outputs": [
    {
     "name": "stdout",
     "output_type": "stream",
     "text": [
      "the number one reason for 911 calls : EMS    332692\n",
      "Name: reason, dtype: int64\n"
     ]
    }
   ],
   "source": [
    "df['reason'] = df['title'].apply(lambda title: title.split(':')[0])\n",
    "print('the number one reason for 911 calls : {}'.format(\n",
    "    df['reason'].value_counts().head(1)))"
   ]
  },
  {
   "cell_type": "code",
   "execution_count": 94,
   "id": "5ad01cfa",
   "metadata": {},
   "outputs": [
    {
     "name": "stdout",
     "output_type": "stream",
     "text": [
      "the number one department for 911 calls :  VEHICLE ACCIDENT -    148372\n",
      "Name: Dpt, dtype: int64\n"
     ]
    }
   ],
   "source": [
    "df['Dpt'] = df['title'].apply(lambda title: title.split(':')[1])\n",
    "print('the number one department for 911 calls : {}'.format(\n",
    "    df['Dpt'].value_counts().head(1)))"
   ]
  },
  {
   "cell_type": "markdown",
   "id": "844abb1d",
   "metadata": {},
   "source": [
    "### Top 5 zipcodes for 911 calls"
   ]
  },
  {
   "cell_type": "code",
   "execution_count": 95,
   "id": "cc6e5bbc",
   "metadata": {},
   "outputs": [
    {
     "data": {
      "text/plain": [
       "19401.0    45606\n",
       "19464.0    43910\n",
       "19403.0    34888\n",
       "19446.0    32270\n",
       "19406.0    22464\n",
       "Name: zip, dtype: int64"
      ]
     },
     "execution_count": 95,
     "metadata": {},
     "output_type": "execute_result"
    }
   ],
   "source": [
    "df['zip'].value_counts().head(5)"
   ]
  },
  {
   "cell_type": "markdown",
   "id": "649be2fc",
   "metadata": {},
   "source": [
    "**I am looking to group information by year to find the town with the highest number of 911 calls by year.**"
   ]
  },
  {
   "cell_type": "code",
   "execution_count": 96,
   "id": "4af8e917",
   "metadata": {
    "scrolled": true
   },
   "outputs": [],
   "source": [
    "df['year'] = df['timeStamp'].str[:4]"
   ]
  },
  {
   "cell_type": "code",
   "execution_count": 97,
   "id": "abcd5dcc",
   "metadata": {
    "scrolled": true
   },
   "outputs": [
    {
     "name": "stdout",
     "output_type": "stream",
     "text": [
      "            lat        lng                                               desc  \\\n",
      "0     40.297876 -75.581294  REINDEER CT & DEAD END;  NEW HANOVER; Station ...   \n",
      "1     40.258061 -75.264680  BRIAR PATH & WHITEMARSH LN;  HATFIELD TOWNSHIP...   \n",
      "2     40.121182 -75.351975  HAWS AVE; NORRISTOWN; 2015-12-10 @ 14:39:21-St...   \n",
      "3     40.116153 -75.343513  AIRY ST & SWEDE ST;  NORRISTOWN; Station 308A;...   \n",
      "4     40.251492 -75.603350  CHERRYWOOD CT & DEAD END;  LOWER POTTSGROVE; S...   \n",
      "...         ...        ...                                                ...   \n",
      "7911  40.291231 -75.271800  BETHLEHEM PIKE & SWARTLEY RD; BUCKS COUNTY; 20...   \n",
      "7912  40.136020 -75.354606  BEECH DR & SPRUCE ST;  WEST NORRITON; Station ...   \n",
      "7913  40.294817 -75.537972  BIG RD & COLONIAL RD;  UPPER FREDERICK; Statio...   \n",
      "7914  40.112336 -75.150554  ROBERTS AVE & JENKINTOWN RD;  ABINGTON; Statio...   \n",
      "7915  40.081127 -75.160484  LIMEKILN PIKE & EVERGREEN AVE; CHELTENHAM; 201...   \n",
      "\n",
      "          zip                        title            timeStamp  \\\n",
      "0     19525.0       EMS: BACK PAINS/INJURY  2015-12-10 17:10:52   \n",
      "1     19446.0      EMS: DIABETIC EMERGENCY  2015-12-10 17:29:21   \n",
      "2     19401.0          Fire: GAS-ODOR/LEAK  2015-12-10 14:39:21   \n",
      "3     19401.0       EMS: CARDIAC EMERGENCY  2015-12-10 16:47:36   \n",
      "4         NaN               EMS: DIZZINESS  2015-12-10 16:56:52   \n",
      "...       ...                          ...                  ...   \n",
      "7911  19440.0  Traffic: VEHICLE ACCIDENT -  2015-12-31 23:32:27   \n",
      "7912  19403.0                EMS: SEIZURES  2015-12-31 23:44:56   \n",
      "7913  18074.0             EMS: FALL VICTIM  2015-12-31 23:54:02   \n",
      "7914  19038.0       EMS: CARDIAC EMERGENCY  2015-12-31 23:53:19   \n",
      "7915  19095.0  Traffic: DISABLED VEHICLE -  2015-12-31 23:52:46   \n",
      "\n",
      "                    twp                           addr  e   reason  \\\n",
      "0           NEW HANOVER         REINDEER CT & DEAD END  1      EMS   \n",
      "1     HATFIELD TOWNSHIP     BRIAR PATH & WHITEMARSH LN  1      EMS   \n",
      "2            NORRISTOWN                       HAWS AVE  1     Fire   \n",
      "3            NORRISTOWN             AIRY ST & SWEDE ST  1      EMS   \n",
      "4      LOWER POTTSGROVE       CHERRYWOOD CT & DEAD END  1      EMS   \n",
      "...                 ...                            ... ..      ...   \n",
      "7911       BUCKS COUNTY   BETHLEHEM PIKE & SWARTLEY RD  1  Traffic   \n",
      "7912      WEST NORRITON           BEECH DR & SPRUCE ST  1      EMS   \n",
      "7913    UPPER FREDERICK           BIG RD & COLONIAL RD  1      EMS   \n",
      "7914           ABINGTON    ROBERTS AVE & JENKINTOWN RD  1      EMS   \n",
      "7915         CHELTENHAM  LIMEKILN PIKE & EVERGREEN AVE  1  Traffic   \n",
      "\n",
      "                      Dpt  year  \n",
      "0       BACK PAINS/INJURY  2015  \n",
      "1      DIABETIC EMERGENCY  2015  \n",
      "2           GAS-ODOR/LEAK  2015  \n",
      "3       CARDIAC EMERGENCY  2015  \n",
      "4               DIZZINESS  2015  \n",
      "...                   ...   ...  \n",
      "7911   VEHICLE ACCIDENT -  2015  \n",
      "7912             SEIZURES  2015  \n",
      "7913          FALL VICTIM  2015  \n",
      "7914    CARDIAC EMERGENCY  2015  \n",
      "7915   DISABLED VEHICLE -  2015  \n",
      "\n",
      "[7916 rows x 12 columns]\n",
      "              lat        lng  \\\n",
      "7916    40.121354 -75.363829   \n",
      "7917    40.140505 -75.310874   \n",
      "7918    40.246837 -75.681381   \n",
      "7919    40.097222 -75.376195   \n",
      "7920    40.148432 -75.219812   \n",
      "...           ...        ...   \n",
      "150271  40.076383 -75.303797   \n",
      "150272  40.296788 -75.450413   \n",
      "150273  40.121899 -75.288641   \n",
      "150274  40.110192 -75.259927   \n",
      "150275  40.000894 -75.288349   \n",
      "\n",
      "                                                     desc      zip  \\\n",
      "7916    ROSEMONT AVE & W WASHINGTON ST;  NORRISTOWN; S...  19401.0   \n",
      "7917    GERMANTOWN PIKE & HANNAH AVE;  EAST NORRITON; ...  19401.0   \n",
      "7918    VINE ST & CENTER ST;  WEST POTTSGROVE; Station...  19464.0   \n",
      "7919    MARK LN & DEAD END;  UPPER MERION; Station 317...      NaN   \n",
      "7920    BANNOCKBURN AVE & S SPRING GARDEN ST;  AMBLER;...  19002.0   \n",
      "...                                                   ...      ...   \n",
      "150271  FAYETTE ST & E 4TH AVE;  CONSHOHOCKEN; Station...  19428.0   \n",
      "150272  CHURCH RD & QUARRY RD;  UPPER SALFORD; Station...  19438.0   \n",
      "150273  W GERMANTOWN PIKE & WALTON RD; PLYMOUTH; 2016-...  19462.0   \n",
      "150274  LORINE LN & CAMBURN RD;  WHITEMARSH; Station 3...  19462.0   \n",
      "150275  SUTTON RD & E ATHENS AVE;  LOWER MERION; Stati...  19003.0   \n",
      "\n",
      "                              title            timeStamp              twp  \\\n",
      "7916            EMS: ASSAULT VICTIM  2016-01-01 00:10:08       NORRISTOWN   \n",
      "7917               EMS: FALL VICTIM  2016-01-01 00:14:45    EAST NORRITON   \n",
      "7918           EMS: ABDOMINAL PAINS  2016-01-01 00:20:43  WEST POTTSGROVE   \n",
      "7919     EMS: ALTERED MENTAL STATUS  2016-01-01 00:25:30     UPPER MERION   \n",
      "7920        EMS: DIABETIC EMERGENCY  2016-01-01 00:30:28           AMBLER   \n",
      "...                             ...                  ...              ...   \n",
      "150271   EMS: RESPIRATORY EMERGENCY  2016-12-31 23:22:07     CONSHOHOCKEN   \n",
      "150272         EMS: SUBJECT IN PAIN  2016-12-31 23:29:04    UPPER SALFORD   \n",
      "150273  Traffic: DISABLED VEHICLE -  2016-12-31 23:35:28         PLYMOUTH   \n",
      "150274                EMS: OVERDOSE  2016-12-31 23:45:47       WHITEMARSH   \n",
      "150275                EMS: OVERDOSE  2016-12-31 23:49:35     LOWER MERION   \n",
      "\n",
      "                                        addr  e   reason  \\\n",
      "7916          ROSEMONT AVE & W WASHINGTON ST  1      EMS   \n",
      "7917            GERMANTOWN PIKE & HANNAH AVE  1      EMS   \n",
      "7918                     VINE ST & CENTER ST  1      EMS   \n",
      "7919                      MARK LN & DEAD END  1      EMS   \n",
      "7920    BANNOCKBURN AVE & S SPRING GARDEN ST  1      EMS   \n",
      "...                                      ... ..      ...   \n",
      "150271                FAYETTE ST & E 4TH AVE  1      EMS   \n",
      "150272                 CHURCH RD & QUARRY RD  1      EMS   \n",
      "150273         W GERMANTOWN PIKE & WALTON RD  1  Traffic   \n",
      "150274                LORINE LN & CAMBURN RD  1      EMS   \n",
      "150275              SUTTON RD & E ATHENS AVE  1      EMS   \n",
      "\n",
      "                           Dpt  year  \n",
      "7916            ASSAULT VICTIM  2016  \n",
      "7917               FALL VICTIM  2016  \n",
      "7918           ABDOMINAL PAINS  2016  \n",
      "7919     ALTERED MENTAL STATUS  2016  \n",
      "7920        DIABETIC EMERGENCY  2016  \n",
      "...                        ...   ...  \n",
      "150271   RESPIRATORY EMERGENCY  2016  \n",
      "150272         SUBJECT IN PAIN  2016  \n",
      "150273      DISABLED VEHICLE -  2016  \n",
      "150274                OVERDOSE  2016  \n",
      "150275                OVERDOSE  2016  \n",
      "\n",
      "[142360 rows x 12 columns]\n",
      "              lat        lng  \\\n",
      "150276  40.059554 -75.095024   \n",
      "150277  40.325806 -75.615458   \n",
      "150278  40.129398 -75.332213   \n",
      "150279  40.254598 -75.310667   \n",
      "150280  40.188434 -75.104727   \n",
      "...           ...        ...   \n",
      "290614  40.396824 -75.497740   \n",
      "290615  40.124775 -75.293188   \n",
      "290616  40.148671 -75.429530   \n",
      "290617  40.281446 -75.642200   \n",
      "290618  40.090397 -75.395733   \n",
      "\n",
      "                                                     desc      zip  \\\n",
      "150276  OLD SOLDIERS RD & ASHBOURNE RD; CHELTENHAM; 20...  19012.0   \n",
      "150277  VILLAGE GREEN DR & BARTMAN AVE; DOUGLASS; 2017...  19525.0   \n",
      "150278  PINE ST & W ROBERTS ST;  NORRISTOWN; Station 3...  19401.0   \n",
      "150279  SHOEMAKER WAY & GRIST MILL DR;  TOWAMENCIN; St...  19446.0   \n",
      "150280  JAMES RD & EDWARD RD; UPPER MORELAND; 2017-01-...  19040.0   \n",
      "...                                                   ...      ...   \n",
      "290614  DOTTS ST & W 5TH ST;  PENNSBURG; Station 369; ...  18073.0   \n",
      "290615  GERMANTOWN PIKE & HALLOWELL RD;  PLYMOUTH; Sta...  19462.0   \n",
      "290616  ARCOLA GLEN DR & ARCOLA RD;  LOWER PROVIDENCE;...  19426.0   \n",
      "290617  RT100 NB & RAMP RT100 NB TO FARMINGTON AVE; UP...  19464.0   \n",
      "290618  MALL BLVD & GODDARD BLVD;  UPPER MERION; Stati...  19406.0   \n",
      "\n",
      "                              title            timeStamp               twp  \\\n",
      "150276  Traffic: DISABLED VEHICLE -  2017-01-01 00:05:53        CHELTENHAM   \n",
      "150277          Fire: BUILDING FIRE  2017-01-01 00:08:41          DOUGLASS   \n",
      "150278   EMS: ALTERED MENTAL STATUS  2017-01-01 00:06:29        NORRISTOWN   \n",
      "150279             EMS: HEAD INJURY  2017-01-01 00:07:17        TOWAMENCIN   \n",
      "150280       Fire: WOODS/FIELD FIRE  2017-01-01 00:14:58    UPPER MORELAND   \n",
      "...                             ...                  ...               ...   \n",
      "290614                EMS: OVERDOSE  2017-12-31 23:49:52         PENNSBURG   \n",
      "290615       EMS: CARDIAC EMERGENCY  2017-12-31 23:47:48          PLYMOUTH   \n",
      "290616   EMS: RESPIRATORY EMERGENCY  2017-12-31 23:51:35  LOWER PROVIDENCE   \n",
      "290617  Traffic: DISABLED VEHICLE -  2017-12-31 23:54:30  UPPER POTTSGROVE   \n",
      "290618             EMS: HEAD INJURY  2017-12-31 23:57:59      UPPER MERION   \n",
      "\n",
      "                                              addr  e   reason  \\\n",
      "150276              OLD SOLDIERS RD & ASHBOURNE RD  1  Traffic   \n",
      "150277              VILLAGE GREEN DR & BARTMAN AVE  1     Fire   \n",
      "150278                      PINE ST & W ROBERTS ST  1      EMS   \n",
      "150279               SHOEMAKER WAY & GRIST MILL DR  1      EMS   \n",
      "150280                        JAMES RD & EDWARD RD  1     Fire   \n",
      "...                                            ... ..      ...   \n",
      "290614                         DOTTS ST & W 5TH ST  1      EMS   \n",
      "290615              GERMANTOWN PIKE & HALLOWELL RD  1      EMS   \n",
      "290616                  ARCOLA GLEN DR & ARCOLA RD  1      EMS   \n",
      "290617  RT100 NB & RAMP RT100 NB TO FARMINGTON AVE  1  Traffic   \n",
      "290618                    MALL BLVD & GODDARD BLVD  1      EMS   \n",
      "\n",
      "                           Dpt  year  \n",
      "150276      DISABLED VEHICLE -  2017  \n",
      "150277           BUILDING FIRE  2017  \n",
      "150278   ALTERED MENTAL STATUS  2017  \n",
      "150279             HEAD INJURY  2017  \n",
      "150280        WOODS/FIELD FIRE  2017  \n",
      "...                        ...   ...  \n",
      "290614                OVERDOSE  2017  \n",
      "290615       CARDIAC EMERGENCY  2017  \n",
      "290616   RESPIRATORY EMERGENCY  2017  \n",
      "290617      DISABLED VEHICLE -  2017  \n",
      "290618             HEAD INJURY  2017  \n",
      "\n",
      "[140343 rows x 12 columns]\n",
      "              lat        lng  \\\n",
      "290619  40.121736 -75.359385   \n",
      "290620  40.258253 -75.248230   \n",
      "290621  40.090097 -75.126584   \n",
      "290622  40.143086 -75.060593   \n",
      "290623  40.095171 -75.414699   \n",
      "...           ...        ...   \n",
      "442141  40.390895 -75.491974   \n",
      "442142  40.129538 -75.324636   \n",
      "442143  40.208337 -75.238805   \n",
      "442144  40.184798 -75.286879   \n",
      "442145  40.122835 -75.046123   \n",
      "\n",
      "                                                     desc      zip  \\\n",
      "290619  HAMILTON ST & W MAIN ST;  NORRISTOWN; Station ...  19401.0   \n",
      "290620  BETHLEHEM PIKE & TAYLOR RD;  MONTGOMERY; Stati...  19446.0   \n",
      "290621  YORK RD & OLD YORK RD; JENKINTOWN; 2018-01-01 ...  19046.0   \n",
      "290622  HUNTINGDON PIKE & CARRIAGE LN;  LOWER MORELAND...  19006.0   \n",
      "290623  1ST AVE & FREEDOM DR;  UPPER MERION; Station 3...  19406.0   \n",
      "...                                                   ...      ...   \n",
      "442141  MAIN ST & W 8TH ST;  PENNSBURG; Station 369; 2...  18073.0   \n",
      "442142  JOHNSON HWY & DEKALB ST;  EAST NORRITON; Stati...  19401.0   \n",
      "442143  UXBRIDGE WAY & CAMBRIDGE DR;  LOWER GWYNEDD; S...  19454.0   \n",
      "442144  TWIN SILO DR & MORRIS RD;  WHITPAIN; Station 3...  19422.0   \n",
      "442145  PHILMONT AVE; LOWER MORELAND; 2018-12-31 @ 23:...  19006.0   \n",
      "\n",
      "                             title            timeStamp             twp  \\\n",
      "290619            EMS: FALL VICTIM  2018-01-01 00:08:58      NORRISTOWN   \n",
      "290620  EMS: RESPIRATORY EMERGENCY  2018-01-01 00:16:00      MONTGOMERY   \n",
      "290621     Fire: UNKNOWN TYPE FIRE  2018-01-01 00:14:57      JENKINTOWN   \n",
      "290622            EMS: DEHYDRATION  2018-01-01 00:16:55  LOWER MORELAND   \n",
      "290623            EMS: FALL VICTIM  2018-01-01 00:19:25    UPPER MERION   \n",
      "...                            ...                  ...             ...   \n",
      "442141            EMS: FALL VICTIM  2018-12-31 23:48:07       PENNSBURG   \n",
      "442142           EMS: HEMORRHAGING  2018-12-31 23:52:05   EAST NORRITON   \n",
      "442143               EMS: OVERDOSE  2018-12-31 23:53:43   LOWER GWYNEDD   \n",
      "442144    EMS: UNCONSCIOUS SUBJECT  2018-12-31 23:53:06        WHITPAIN   \n",
      "442145    Fire: FIRE POLICE NEEDED  2018-12-31 23:56:48  LOWER MORELAND   \n",
      "\n",
      "                                 addr  e reason                     Dpt  year  \n",
      "290619        HAMILTON ST & W MAIN ST  1    EMS             FALL VICTIM  2018  \n",
      "290620     BETHLEHEM PIKE & TAYLOR RD  1    EMS   RESPIRATORY EMERGENCY  2018  \n",
      "290621          YORK RD & OLD YORK RD  1   Fire       UNKNOWN TYPE FIRE  2018  \n",
      "290622  HUNTINGDON PIKE & CARRIAGE LN  1    EMS             DEHYDRATION  2018  \n",
      "290623           1ST AVE & FREEDOM DR  1    EMS             FALL VICTIM  2018  \n",
      "...                               ... ..    ...                     ...   ...  \n",
      "442141             MAIN ST & W 8TH ST  1    EMS             FALL VICTIM  2018  \n",
      "442142        JOHNSON HWY & DEKALB ST  1    EMS            HEMORRHAGING  2018  \n",
      "442143    UXBRIDGE WAY & CAMBRIDGE DR  1    EMS                OVERDOSE  2018  \n",
      "442144       TWIN SILO DR & MORRIS RD  1    EMS     UNCONSCIOUS SUBJECT  2018  \n",
      "442145                   PHILMONT AVE  1   Fire      FIRE POLICE NEEDED  2018  \n",
      "\n",
      "[151527 rows x 12 columns]\n",
      "              lat        lng  \\\n",
      "442146  40.250484 -75.407290   \n",
      "442147  40.112982 -75.342838   \n",
      "442148  40.121603 -75.351437   \n",
      "442149  40.179297 -75.127862   \n",
      "442150  40.083246 -75.127689   \n",
      "...           ...        ...   \n",
      "591259  40.124561 -75.352770   \n",
      "591260  40.223907 -75.196106   \n",
      "591261  40.094338 -75.126801   \n",
      "591262  40.094659 -75.362749   \n",
      "591263  40.110743 -75.426022   \n",
      "\n",
      "                                                     desc      zip  \\\n",
      "442146  CHAMPIONSHIP DR & CLUBHOUSE DR;  LOWER SALFORD...  19438.0   \n",
      "442147  DEKALB ST & E LAFAYETTE ST; NORRISTOWN; 2019-0...  19401.0   \n",
      "442148  MARSHALL ST & HAWS AVE;  NORRISTOWN; Station 3...  19401.0   \n",
      "442149  LEARY DR & SUMMER AVE;  HORSHAM; Station 352; ...  19044.0   \n",
      "442150  OLD YORK RD & MEETINGHOUSE RD; CHELTENHAM; 201...  19027.0   \n",
      "...                                                   ...      ...   \n",
      "591259  NOBLE ST & W OAK ST;  NORRISTOWN; Station 308A...  19401.0   \n",
      "591260  STONEY RIVER DR & PONDEROSA LN;  HORSHAM; Stat...  19002.0   \n",
      "591261  SUMMIT AVE & LEEDOM ST;  JENKINTOWN; Station 3...  19046.0   \n",
      "591262  E DEKALB PIKE & N HENDERSON RD; UPPER MERION; ...  19406.0   \n",
      "591263  WOODLAND LN & CATFISH LN;  LOWER PROVIDENCE; S...  19403.0   \n",
      "\n",
      "                              title            timeStamp               twp  \\\n",
      "442146                EMS: OVERDOSE  2019-01-01 00:02:30     LOWER SALFORD   \n",
      "442147             Fire: FIRE ALARM  2019-01-01 00:08:01        NORRISTOWN   \n",
      "442148         EMS: ABDOMINAL PAINS  2019-01-01 00:13:57        NORRISTOWN   \n",
      "442149     EMS: MEDICAL ALERT ALARM  2019-01-01 00:18:59           HORSHAM   \n",
      "442150  Traffic: DISABLED VEHICLE -  2019-01-01 00:19:12        CHELTENHAM   \n",
      "...                             ...                  ...               ...   \n",
      "591259          EMS: CARDIAC ARREST  2019-12-31 23:13:34        NORRISTOWN   \n",
      "591260        EMS: GENERAL WEAKNESS  2019-12-31 23:18:22           HORSHAM   \n",
      "591261             EMS: LACERATIONS  2019-12-31 23:27:54        JENKINTOWN   \n",
      "591262  Traffic: VEHICLE ACCIDENT -  2019-12-31 23:29:15      UPPER MERION   \n",
      "591263   EMS: ALTERED MENTAL STATUS  2019-12-31 23:50:12  LOWER PROVIDENCE   \n",
      "\n",
      "                                  addr  e   reason                     Dpt  \\\n",
      "442146  CHAMPIONSHIP DR & CLUBHOUSE DR  1      EMS                OVERDOSE   \n",
      "442147      DEKALB ST & E LAFAYETTE ST  1     Fire              FIRE ALARM   \n",
      "442148          MARSHALL ST & HAWS AVE  1      EMS         ABDOMINAL PAINS   \n",
      "442149           LEARY DR & SUMMER AVE  1      EMS     MEDICAL ALERT ALARM   \n",
      "442150   OLD YORK RD & MEETINGHOUSE RD  1  Traffic      DISABLED VEHICLE -   \n",
      "...                                ... ..      ...                     ...   \n",
      "591259             NOBLE ST & W OAK ST  1      EMS          CARDIAC ARREST   \n",
      "591260  STONEY RIVER DR & PONDEROSA LN  1      EMS        GENERAL WEAKNESS   \n",
      "591261          SUMMIT AVE & LEEDOM ST  1      EMS             LACERATIONS   \n",
      "591262  E DEKALB PIKE & N HENDERSON RD  1  Traffic      VEHICLE ACCIDENT -   \n",
      "591263        WOODLAND LN & CATFISH LN  1      EMS   ALTERED MENTAL STATUS   \n",
      "\n",
      "        year  \n",
      "442146  2019  \n",
      "442147  2019  \n",
      "442148  2019  \n",
      "442149  2019  \n",
      "442150  2019  \n",
      "...      ...  \n",
      "591259  2019  \n",
      "591260  2019  \n",
      "591261  2019  \n",
      "591262  2019  \n",
      "591263  2019  \n",
      "\n",
      "[149118 rows x 12 columns]\n",
      "              lat        lng  \\\n",
      "591264  40.122337 -75.135601   \n",
      "591265  40.008680 -75.210760   \n",
      "591266  40.247772 -75.283171   \n",
      "591267  40.104341 -75.347650   \n",
      "591268  40.247837 -75.635809   \n",
      "...           ...        ...   \n",
      "663517  40.157956 -75.348060   \n",
      "663518  40.136306 -75.428697   \n",
      "663519  40.013779 -75.300835   \n",
      "663520  40.121603 -75.351437   \n",
      "663521  40.015046 -75.299674   \n",
      "\n",
      "                                                     desc      zip  \\\n",
      "591264  BRADFIELD RD & SUSQUEHANNA RD; ABINGTON; 2020-...  19001.0   \n",
      "591265  E CITY AVE & PRESIDENTIAL BLVD; LOWER MERION; ...  19004.0   \n",
      "591266  MAPLE AVE & W 6TH ST;  LANSDALE; Station 345; ...  19446.0   \n",
      "591267  DEKALB ST; BRIDGEPORT; 2020-01-01 @ 00:07:53-S...      NaN   \n",
      "591268  BEECH ST;  POTTSTOWN; Station 329; 2020-01-01 ...  19464.0   \n",
      "...                                                   ...      ...   \n",
      "663517  SUNSET AVE & WOODLAND AVE; EAST NORRITON; 2020...  19403.0   \n",
      "663518  EAGLEVILLE RD & BUNTING CIR;  LOWER PROVIDENCE...  19403.0   \n",
      "663519  HAVERFORD STATION RD;  LOWER MERION; Station 3...  19041.0   \n",
      "663520  MARSHALL ST & HAWS AVE; NORRISTOWN; 2020-07-29...  19401.0   \n",
      "663521  HAVERFORD STATION RD & W MONTGOMERY AVE; LOWER...  19041.0   \n",
      "\n",
      "                              title            timeStamp               twp  \\\n",
      "591264             Fire: FIRE ALARM  2020-01-01 00:04:06          ABINGTON   \n",
      "591265  Traffic: VEHICLE ACCIDENT -  2020-01-01 00:02:25      LOWER MERION   \n",
      "591266             EMS: LACERATIONS  2020-01-01 00:07:21          LANSDALE   \n",
      "591267       Fire: WOODS/FIELD FIRE  2020-01-01 00:07:53        BRIDGEPORT   \n",
      "591268                EMS: STABBING  2020-01-01 00:20:15         POTTSTOWN   \n",
      "...                             ...                  ...               ...   \n",
      "663517  Traffic: VEHICLE ACCIDENT -  2020-07-29 15:46:51     EAST NORRITON   \n",
      "663518        EMS: GENERAL WEAKNESS  2020-07-29 15:52:19  LOWER PROVIDENCE   \n",
      "663519        EMS: VEHICLE ACCIDENT  2020-07-29 15:52:52      LOWER MERION   \n",
      "663520          Fire: BUILDING FIRE  2020-07-29 15:54:08        NORRISTOWN   \n",
      "663521  Traffic: VEHICLE ACCIDENT -  2020-07-29 15:52:46      LOWER MERION   \n",
      "\n",
      "                                           addr  e   reason  \\\n",
      "591264            BRADFIELD RD & SUSQUEHANNA RD  1     Fire   \n",
      "591265           E CITY AVE & PRESIDENTIAL BLVD  1  Traffic   \n",
      "591266                     MAPLE AVE & W 6TH ST  1      EMS   \n",
      "591267                                DEKALB ST  1     Fire   \n",
      "591268                                 BEECH ST  1      EMS   \n",
      "...                                         ... ..      ...   \n",
      "663517                SUNSET AVE & WOODLAND AVE  1  Traffic   \n",
      "663518              EAGLEVILLE RD & BUNTING CIR  1      EMS   \n",
      "663519                     HAVERFORD STATION RD  1      EMS   \n",
      "663520                   MARSHALL ST & HAWS AVE  1     Fire   \n",
      "663521  HAVERFORD STATION RD & W MONTGOMERY AVE  1  Traffic   \n",
      "\n",
      "                        Dpt  year  \n",
      "591264           FIRE ALARM  2020  \n",
      "591265   VEHICLE ACCIDENT -  2020  \n",
      "591266          LACERATIONS  2020  \n",
      "591267     WOODS/FIELD FIRE  2020  \n",
      "591268             STABBING  2020  \n",
      "...                     ...   ...  \n",
      "663517   VEHICLE ACCIDENT -  2020  \n",
      "663518     GENERAL WEAKNESS  2020  \n",
      "663519     VEHICLE ACCIDENT  2020  \n",
      "663520        BUILDING FIRE  2020  \n",
      "663521   VEHICLE ACCIDENT -  2020  \n",
      "\n",
      "[72258 rows x 12 columns]\n"
     ]
    },
    {
     "data": {
      "text/html": [
       "<div>\n",
       "<style scoped>\n",
       "    .dataframe tbody tr th:only-of-type {\n",
       "        vertical-align: middle;\n",
       "    }\n",
       "\n",
       "    .dataframe tbody tr th {\n",
       "        vertical-align: top;\n",
       "    }\n",
       "\n",
       "    .dataframe thead th {\n",
       "        text-align: right;\n",
       "    }\n",
       "</style>\n",
       "<table border=\"1\" class=\"dataframe\">\n",
       "  <thead>\n",
       "    <tr style=\"text-align: right;\">\n",
       "      <th></th>\n",
       "    </tr>\n",
       "  </thead>\n",
       "  <tbody>\n",
       "  </tbody>\n",
       "</table>\n",
       "</div>"
      ],
      "text/plain": [
       "Empty DataFrame\n",
       "Columns: []\n",
       "Index: []"
      ]
     },
     "execution_count": 97,
     "metadata": {},
     "output_type": "execute_result"
    }
   ],
   "source": [
    "df.groupby('year').apply(print)"
   ]
  },
  {
   "cell_type": "code",
   "execution_count": 98,
   "id": "e964d123",
   "metadata": {},
   "outputs": [
    {
     "data": {
      "text/html": [
       "<div>\n",
       "<style scoped>\n",
       "    .dataframe tbody tr th:only-of-type {\n",
       "        vertical-align: middle;\n",
       "    }\n",
       "\n",
       "    .dataframe tbody tr th {\n",
       "        vertical-align: top;\n",
       "    }\n",
       "\n",
       "    .dataframe thead th {\n",
       "        text-align: right;\n",
       "    }\n",
       "</style>\n",
       "<table border=\"1\" class=\"dataframe\">\n",
       "  <thead>\n",
       "    <tr style=\"text-align: right;\">\n",
       "      <th></th>\n",
       "      <th>twp</th>\n",
       "      <th>year</th>\n",
       "    </tr>\n",
       "  </thead>\n",
       "  <tbody>\n",
       "    <tr>\n",
       "      <th>0</th>\n",
       "      <td>NEW HANOVER</td>\n",
       "      <td>2015</td>\n",
       "    </tr>\n",
       "    <tr>\n",
       "      <th>1</th>\n",
       "      <td>HATFIELD TOWNSHIP</td>\n",
       "      <td>2015</td>\n",
       "    </tr>\n",
       "    <tr>\n",
       "      <th>2</th>\n",
       "      <td>NORRISTOWN</td>\n",
       "      <td>2015</td>\n",
       "    </tr>\n",
       "    <tr>\n",
       "      <th>3</th>\n",
       "      <td>NORRISTOWN</td>\n",
       "      <td>2015</td>\n",
       "    </tr>\n",
       "    <tr>\n",
       "      <th>4</th>\n",
       "      <td>LOWER POTTSGROVE</td>\n",
       "      <td>2015</td>\n",
       "    </tr>\n",
       "    <tr>\n",
       "      <th>...</th>\n",
       "      <td>...</td>\n",
       "      <td>...</td>\n",
       "    </tr>\n",
       "    <tr>\n",
       "      <th>663517</th>\n",
       "      <td>EAST NORRITON</td>\n",
       "      <td>2020</td>\n",
       "    </tr>\n",
       "    <tr>\n",
       "      <th>663518</th>\n",
       "      <td>LOWER PROVIDENCE</td>\n",
       "      <td>2020</td>\n",
       "    </tr>\n",
       "    <tr>\n",
       "      <th>663519</th>\n",
       "      <td>LOWER MERION</td>\n",
       "      <td>2020</td>\n",
       "    </tr>\n",
       "    <tr>\n",
       "      <th>663520</th>\n",
       "      <td>NORRISTOWN</td>\n",
       "      <td>2020</td>\n",
       "    </tr>\n",
       "    <tr>\n",
       "      <th>663521</th>\n",
       "      <td>LOWER MERION</td>\n",
       "      <td>2020</td>\n",
       "    </tr>\n",
       "  </tbody>\n",
       "</table>\n",
       "<p>663522 rows × 2 columns</p>\n",
       "</div>"
      ],
      "text/plain": [
       "                      twp  year\n",
       "0             NEW HANOVER  2015\n",
       "1       HATFIELD TOWNSHIP  2015\n",
       "2              NORRISTOWN  2015\n",
       "3              NORRISTOWN  2015\n",
       "4        LOWER POTTSGROVE  2015\n",
       "...                   ...   ...\n",
       "663517      EAST NORRITON  2020\n",
       "663518   LOWER PROVIDENCE  2020\n",
       "663519       LOWER MERION  2020\n",
       "663520         NORRISTOWN  2020\n",
       "663521       LOWER MERION  2020\n",
       "\n",
       "[663522 rows x 2 columns]"
      ]
     },
     "execution_count": 98,
     "metadata": {},
     "output_type": "execute_result"
    }
   ],
   "source": [
    "df1 = df[['twp', 'year']]\n",
    "df1"
   ]
  },
  {
   "cell_type": "code",
   "execution_count": 99,
   "id": "8bd33929",
   "metadata": {},
   "outputs": [
    {
     "name": "stdout",
     "output_type": "stream",
     "text": [
      "['2015' '2016' '2017' '2018' '2019' '2020']\n"
     ]
    }
   ],
   "source": [
    "year_list = df['year'].unique()\n",
    "print(year_list)"
   ]
  },
  {
   "cell_type": "markdown",
   "id": "839b1434",
   "metadata": {},
   "source": [
    "## Result"
   ]
  },
  {
   "cell_type": "code",
   "execution_count": 134,
   "id": "459dd8ec",
   "metadata": {},
   "outputs": [
    {
     "name": "stdout",
     "output_type": "stream",
     "text": [
      "Town with the highest number of 911 calls ('LOWER MERION', '2015'), total 911 calls for this town: 593\n",
      "Town with the highest number of 911 calls ('LOWER MERION', '2016'), total 911 calls for this town: 12332\n",
      "Town with the highest number of 911 calls ('LOWER MERION', '2017'), total 911 calls for this town: 12048\n",
      "Town with the highest number of 911 calls ('LOWER MERION', '2018'), total 911 calls for this town: 13059\n",
      "Town with the highest number of 911 calls ('LOWER MERION', '2019'), total 911 calls for this town: 12133\n",
      "Town with the highest number of 911 calls ('LOWER MERION', '2020'), total 911 calls for this town: 5325\n"
     ]
    }
   ],
   "source": [
    "for year in year_list :  \n",
    "    print('Town with the highest number of 911 calls {}, total 911 calls for this town: {}'.format(\n",
    "    df1.loc[df1['year'] == year].value_counts().idxmax(), df1.loc[df1['year'] == year].value_counts().max()))   "
   ]
  },
  {
   "cell_type": "markdown",
   "id": "b55802dc",
   "metadata": {},
   "source": [
    "## Data Visualisation"
   ]
  },
  {
   "cell_type": "markdown",
   "id": "4ded5af8",
   "metadata": {},
   "source": [
    "**In this section I want to visualize the data and plot some histogram and graphs to show results.**"
   ]
  },
  {
   "cell_type": "markdown",
   "id": "5e8df289",
   "metadata": {},
   "source": [
    "**We can see that EMS are the number one reason for 911 Calls followed by Traffic.** "
   ]
  },
  {
   "cell_type": "code",
   "execution_count": 137,
   "id": "1cbbfd1b",
   "metadata": {},
   "outputs": [
    {
     "data": {
      "image/png": "[encoded data removed]",
      "text/plain": [
       "<Figure size 432x288 with 1 Axes>"
      ]
     },
     "metadata": {
      "needs_background": "light"
     },
     "output_type": "display_data"
    }
   ],
   "source": [
    "sns.histplot(data = df,x='reason',shrink=.7) # Histogram of 911 calls by reason \n",
    "plt.title('Number of Calls by reason')\n",
    "plt.ylabel('Count')\n",
    "plt.show()"
   ]
  },
  {
   "cell_type": "markdown",
   "id": "196a9779",
   "metadata": {},
   "source": [
    "**Here I'm doing some data preparation. My goal is to create new columns (Year, Month,Date,Hour) based on the column Timestamp.**"
   ]
  },
  {
   "cell_type": "code",
   "execution_count": 102,
   "id": "62593840",
   "metadata": {},
   "outputs": [],
   "source": [
    "df['timeStamp']= pd.to_datetime(df['timeStamp'])"
   ]
  },
  {
   "cell_type": "code",
   "execution_count": 103,
   "id": "a24a67e0",
   "metadata": {},
   "outputs": [
    {
     "name": "stdout",
     "output_type": "stream",
     "text": [
      "<class 'pandas.core.series.Series'>\n",
      "RangeIndex: 663522 entries, 0 to 663521\n",
      "Series name: timeStamp\n",
      "Non-Null Count   Dtype         \n",
      "--------------   -----         \n",
      "663522 non-null  datetime64[ns]\n",
      "dtypes: datetime64[ns](1)\n",
      "memory usage: 5.1 MB\n"
     ]
    }
   ],
   "source": [
    "df['timeStamp'].info()"
   ]
  },
  {
   "cell_type": "code",
   "execution_count": 104,
   "id": "4c1b2517",
   "metadata": {},
   "outputs": [
    {
     "data": {
      "text/plain": [
       "0        2015-12-10 17:10:52\n",
       "1        2015-12-10 17:29:21\n",
       "2        2015-12-10 14:39:21\n",
       "3        2015-12-10 16:47:36\n",
       "4        2015-12-10 16:56:52\n",
       "                 ...        \n",
       "663517   2020-07-29 15:46:51\n",
       "663518   2020-07-29 15:52:19\n",
       "663519   2020-07-29 15:52:52\n",
       "663520   2020-07-29 15:54:08\n",
       "663521   2020-07-29 15:52:46\n",
       "Name: timeStamp, Length: 663522, dtype: datetime64[ns]"
      ]
     },
     "execution_count": 104,
     "metadata": {},
     "output_type": "execute_result"
    }
   ],
   "source": [
    "df['timeStamp']"
   ]
  },
  {
   "cell_type": "code",
   "execution_count": 105,
   "id": "732bcf66",
   "metadata": {},
   "outputs": [],
   "source": [
    "df['Hour'] = df['timeStamp'].apply(lambda time: time.hour)\n",
    "df['Month'] = df['timeStamp'].apply(lambda time: time.month)\n",
    "df['Day of Week'] = df['timeStamp'].apply(lambda time: time.dayofweek)"
   ]
  },
  {
   "cell_type": "code",
   "execution_count": 106,
   "id": "bb03c2ff",
   "metadata": {},
   "outputs": [
    {
     "name": "stdout",
     "output_type": "stream",
     "text": [
      "<class 'pandas.core.frame.DataFrame'>\n",
      "RangeIndex: 663522 entries, 0 to 663521\n",
      "Data columns (total 15 columns):\n",
      " #   Column       Non-Null Count   Dtype         \n",
      "---  ------       --------------   -----         \n",
      " 0   lat          663522 non-null  float64       \n",
      " 1   lng          663522 non-null  float64       \n",
      " 2   desc         663522 non-null  object        \n",
      " 3   zip          583323 non-null  float64       \n",
      " 4   title        663522 non-null  object        \n",
      " 5   timeStamp    663522 non-null  datetime64[ns]\n",
      " 6   twp          663229 non-null  object        \n",
      " 7   addr         663522 non-null  object        \n",
      " 8   e            663522 non-null  int64         \n",
      " 9   reason       663522 non-null  object        \n",
      " 10  Dpt          663522 non-null  object        \n",
      " 11  year         663522 non-null  object        \n",
      " 12  Hour         663522 non-null  int64         \n",
      " 13  Month        663522 non-null  int64         \n",
      " 14  Day of Week  663522 non-null  int64         \n",
      "dtypes: datetime64[ns](1), float64(3), int64(4), object(7)\n",
      "memory usage: 75.9+ MB\n"
     ]
    }
   ],
   "source": [
    "df.info()"
   ]
  },
  {
   "cell_type": "markdown",
   "id": "aec8be05",
   "metadata": {},
   "source": [
    "**We can see that the column Day of the week is composed by integer. I want to change that for strings (MONDAY, TUESDAY, ...).\n",
    "So I create a key 'dmap' and then I apply 'dmap' to my new column with the map function.**"
   ]
  },
  {
   "cell_type": "code",
   "execution_count": 107,
   "id": "b3fbc3af",
   "metadata": {},
   "outputs": [
    {
     "data": {
      "text/plain": [
       "{0: 'Mon', 1: 'Tue', 2: 'Wed', 3: 'Thu', 4: 'Fri', 5: 'Sat', 6: 'Sun'}"
      ]
     },
     "execution_count": 107,
     "metadata": {},
     "output_type": "execute_result"
    }
   ],
   "source": [
    "dmap = {0:'Mon',1:'Tue',2:'Wed',3:'Thu',4:'Fri',5:'Sat',6:'Sun'}\n",
    "dmap"
   ]
  },
  {
   "cell_type": "code",
   "execution_count": 108,
   "id": "15b8cf32",
   "metadata": {},
   "outputs": [],
   "source": [
    "df['Day of Week'] = df['Day of Week'].map(dmap)"
   ]
  },
  {
   "cell_type": "code",
   "execution_count": 109,
   "id": "82971326",
   "metadata": {},
   "outputs": [
    {
     "data": {
      "text/html": [
       "<div>\n",
       "<style scoped>\n",
       "    .dataframe tbody tr th:only-of-type {\n",
       "        vertical-align: middle;\n",
       "    }\n",
       "\n",
       "    .dataframe tbody tr th {\n",
       "        vertical-align: top;\n",
       "    }\n",
       "\n",
       "    .dataframe thead th {\n",
       "        text-align: right;\n",
       "    }\n",
       "</style>\n",
       "<table border=\"1\" class=\"dataframe\">\n",
       "  <thead>\n",
       "    <tr style=\"text-align: right;\">\n",
       "      <th></th>\n",
       "      <th>lat</th>\n",
       "      <th>lng</th>\n",
       "      <th>desc</th>\n",
       "      <th>zip</th>\n",
       "      <th>title</th>\n",
       "      <th>timeStamp</th>\n",
       "      <th>twp</th>\n",
       "      <th>addr</th>\n",
       "      <th>e</th>\n",
       "      <th>reason</th>\n",
       "      <th>Dpt</th>\n",
       "      <th>year</th>\n",
       "      <th>Hour</th>\n",
       "      <th>Month</th>\n",
       "      <th>Day of Week</th>\n",
       "    </tr>\n",
       "  </thead>\n",
       "  <tbody>\n",
       "    <tr>\n",
       "      <th>0</th>\n",
       "      <td>40.297876</td>\n",
       "      <td>-75.581294</td>\n",
       "      <td>REINDEER CT &amp; DEAD END;  NEW HANOVER; Station ...</td>\n",
       "      <td>19525.0</td>\n",
       "      <td>EMS: BACK PAINS/INJURY</td>\n",
       "      <td>2015-12-10 17:10:52</td>\n",
       "      <td>NEW HANOVER</td>\n",
       "      <td>REINDEER CT &amp; DEAD END</td>\n",
       "      <td>1</td>\n",
       "      <td>EMS</td>\n",
       "      <td>BACK PAINS/INJURY</td>\n",
       "      <td>2015</td>\n",
       "      <td>17</td>\n",
       "      <td>12</td>\n",
       "      <td>Thu</td>\n",
       "    </tr>\n",
       "    <tr>\n",
       "      <th>1</th>\n",
       "      <td>40.258061</td>\n",
       "      <td>-75.264680</td>\n",
       "      <td>BRIAR PATH &amp; WHITEMARSH LN;  HATFIELD TOWNSHIP...</td>\n",
       "      <td>19446.0</td>\n",
       "      <td>EMS: DIABETIC EMERGENCY</td>\n",
       "      <td>2015-12-10 17:29:21</td>\n",
       "      <td>HATFIELD TOWNSHIP</td>\n",
       "      <td>BRIAR PATH &amp; WHITEMARSH LN</td>\n",
       "      <td>1</td>\n",
       "      <td>EMS</td>\n",
       "      <td>DIABETIC EMERGENCY</td>\n",
       "      <td>2015</td>\n",
       "      <td>17</td>\n",
       "      <td>12</td>\n",
       "      <td>Thu</td>\n",
       "    </tr>\n",
       "    <tr>\n",
       "      <th>2</th>\n",
       "      <td>40.121182</td>\n",
       "      <td>-75.351975</td>\n",
       "      <td>HAWS AVE; NORRISTOWN; 2015-12-10 @ 14:39:21-St...</td>\n",
       "      <td>19401.0</td>\n",
       "      <td>Fire: GAS-ODOR/LEAK</td>\n",
       "      <td>2015-12-10 14:39:21</td>\n",
       "      <td>NORRISTOWN</td>\n",
       "      <td>HAWS AVE</td>\n",
       "      <td>1</td>\n",
       "      <td>Fire</td>\n",
       "      <td>GAS-ODOR/LEAK</td>\n",
       "      <td>2015</td>\n",
       "      <td>14</td>\n",
       "      <td>12</td>\n",
       "      <td>Thu</td>\n",
       "    </tr>\n",
       "    <tr>\n",
       "      <th>3</th>\n",
       "      <td>40.116153</td>\n",
       "      <td>-75.343513</td>\n",
       "      <td>AIRY ST &amp; SWEDE ST;  NORRISTOWN; Station 308A;...</td>\n",
       "      <td>19401.0</td>\n",
       "      <td>EMS: CARDIAC EMERGENCY</td>\n",
       "      <td>2015-12-10 16:47:36</td>\n",
       "      <td>NORRISTOWN</td>\n",
       "      <td>AIRY ST &amp; SWEDE ST</td>\n",
       "      <td>1</td>\n",
       "      <td>EMS</td>\n",
       "      <td>CARDIAC EMERGENCY</td>\n",
       "      <td>2015</td>\n",
       "      <td>16</td>\n",
       "      <td>12</td>\n",
       "      <td>Thu</td>\n",
       "    </tr>\n",
       "    <tr>\n",
       "      <th>4</th>\n",
       "      <td>40.251492</td>\n",
       "      <td>-75.603350</td>\n",
       "      <td>CHERRYWOOD CT &amp; DEAD END;  LOWER POTTSGROVE; S...</td>\n",
       "      <td>NaN</td>\n",
       "      <td>EMS: DIZZINESS</td>\n",
       "      <td>2015-12-10 16:56:52</td>\n",
       "      <td>LOWER POTTSGROVE</td>\n",
       "      <td>CHERRYWOOD CT &amp; DEAD END</td>\n",
       "      <td>1</td>\n",
       "      <td>EMS</td>\n",
       "      <td>DIZZINESS</td>\n",
       "      <td>2015</td>\n",
       "      <td>16</td>\n",
       "      <td>12</td>\n",
       "      <td>Thu</td>\n",
       "    </tr>\n",
       "    <tr>\n",
       "      <th>...</th>\n",
       "      <td>...</td>\n",
       "      <td>...</td>\n",
       "      <td>...</td>\n",
       "      <td>...</td>\n",
       "      <td>...</td>\n",
       "      <td>...</td>\n",
       "      <td>...</td>\n",
       "      <td>...</td>\n",
       "      <td>...</td>\n",
       "      <td>...</td>\n",
       "      <td>...</td>\n",
       "      <td>...</td>\n",
       "      <td>...</td>\n",
       "      <td>...</td>\n",
       "      <td>...</td>\n",
       "    </tr>\n",
       "    <tr>\n",
       "      <th>663517</th>\n",
       "      <td>40.157956</td>\n",
       "      <td>-75.348060</td>\n",
       "      <td>SUNSET AVE &amp; WOODLAND AVE; EAST NORRITON; 2020...</td>\n",
       "      <td>19403.0</td>\n",
       "      <td>Traffic: VEHICLE ACCIDENT -</td>\n",
       "      <td>2020-07-29 15:46:51</td>\n",
       "      <td>EAST NORRITON</td>\n",
       "      <td>SUNSET AVE &amp; WOODLAND AVE</td>\n",
       "      <td>1</td>\n",
       "      <td>Traffic</td>\n",
       "      <td>VEHICLE ACCIDENT -</td>\n",
       "      <td>2020</td>\n",
       "      <td>15</td>\n",
       "      <td>7</td>\n",
       "      <td>Wed</td>\n",
       "    </tr>\n",
       "    <tr>\n",
       "      <th>663518</th>\n",
       "      <td>40.136306</td>\n",
       "      <td>-75.428697</td>\n",
       "      <td>EAGLEVILLE RD &amp; BUNTING CIR;  LOWER PROVIDENCE...</td>\n",
       "      <td>19403.0</td>\n",
       "      <td>EMS: GENERAL WEAKNESS</td>\n",
       "      <td>2020-07-29 15:52:19</td>\n",
       "      <td>LOWER PROVIDENCE</td>\n",
       "      <td>EAGLEVILLE RD &amp; BUNTING CIR</td>\n",
       "      <td>1</td>\n",
       "      <td>EMS</td>\n",
       "      <td>GENERAL WEAKNESS</td>\n",
       "      <td>2020</td>\n",
       "      <td>15</td>\n",
       "      <td>7</td>\n",
       "      <td>Wed</td>\n",
       "    </tr>\n",
       "    <tr>\n",
       "      <th>663519</th>\n",
       "      <td>40.013779</td>\n",
       "      <td>-75.300835</td>\n",
       "      <td>HAVERFORD STATION RD;  LOWER MERION; Station 3...</td>\n",
       "      <td>19041.0</td>\n",
       "      <td>EMS: VEHICLE ACCIDENT</td>\n",
       "      <td>2020-07-29 15:52:52</td>\n",
       "      <td>LOWER MERION</td>\n",
       "      <td>HAVERFORD STATION RD</td>\n",
       "      <td>1</td>\n",
       "      <td>EMS</td>\n",
       "      <td>VEHICLE ACCIDENT</td>\n",
       "      <td>2020</td>\n",
       "      <td>15</td>\n",
       "      <td>7</td>\n",
       "      <td>Wed</td>\n",
       "    </tr>\n",
       "    <tr>\n",
       "      <th>663520</th>\n",
       "      <td>40.121603</td>\n",
       "      <td>-75.351437</td>\n",
       "      <td>MARSHALL ST &amp; HAWS AVE; NORRISTOWN; 2020-07-29...</td>\n",
       "      <td>19401.0</td>\n",
       "      <td>Fire: BUILDING FIRE</td>\n",
       "      <td>2020-07-29 15:54:08</td>\n",
       "      <td>NORRISTOWN</td>\n",
       "      <td>MARSHALL ST &amp; HAWS AVE</td>\n",
       "      <td>1</td>\n",
       "      <td>Fire</td>\n",
       "      <td>BUILDING FIRE</td>\n",
       "      <td>2020</td>\n",
       "      <td>15</td>\n",
       "      <td>7</td>\n",
       "      <td>Wed</td>\n",
       "    </tr>\n",
       "    <tr>\n",
       "      <th>663521</th>\n",
       "      <td>40.015046</td>\n",
       "      <td>-75.299674</td>\n",
       "      <td>HAVERFORD STATION RD &amp; W MONTGOMERY AVE; LOWER...</td>\n",
       "      <td>19041.0</td>\n",
       "      <td>Traffic: VEHICLE ACCIDENT -</td>\n",
       "      <td>2020-07-29 15:52:46</td>\n",
       "      <td>LOWER MERION</td>\n",
       "      <td>HAVERFORD STATION RD &amp; W MONTGOMERY AVE</td>\n",
       "      <td>1</td>\n",
       "      <td>Traffic</td>\n",
       "      <td>VEHICLE ACCIDENT -</td>\n",
       "      <td>2020</td>\n",
       "      <td>15</td>\n",
       "      <td>7</td>\n",
       "      <td>Wed</td>\n",
       "    </tr>\n",
       "  </tbody>\n",
       "</table>\n",
       "<p>663522 rows × 15 columns</p>\n",
       "</div>"
      ],
      "text/plain": [
       "              lat        lng  \\\n",
       "0       40.297876 -75.581294   \n",
       "1       40.258061 -75.264680   \n",
       "2       40.121182 -75.351975   \n",
       "3       40.116153 -75.343513   \n",
       "4       40.251492 -75.603350   \n",
       "...           ...        ...   \n",
       "663517  40.157956 -75.348060   \n",
       "663518  40.136306 -75.428697   \n",
       "663519  40.013779 -75.300835   \n",
       "663520  40.121603 -75.351437   \n",
       "663521  40.015046 -75.299674   \n",
       "\n",
       "                                                     desc      zip  \\\n",
       "0       REINDEER CT & DEAD END;  NEW HANOVER; Station ...  19525.0   \n",
       "1       BRIAR PATH & WHITEMARSH LN;  HATFIELD TOWNSHIP...  19446.0   \n",
       "2       HAWS AVE; NORRISTOWN; 2015-12-10 @ 14:39:21-St...  19401.0   \n",
       "3       AIRY ST & SWEDE ST;  NORRISTOWN; Station 308A;...  19401.0   \n",
       "4       CHERRYWOOD CT & DEAD END;  LOWER POTTSGROVE; S...      NaN   \n",
       "...                                                   ...      ...   \n",
       "663517  SUNSET AVE & WOODLAND AVE; EAST NORRITON; 2020...  19403.0   \n",
       "663518  EAGLEVILLE RD & BUNTING CIR;  LOWER PROVIDENCE...  19403.0   \n",
       "663519  HAVERFORD STATION RD;  LOWER MERION; Station 3...  19041.0   \n",
       "663520  MARSHALL ST & HAWS AVE; NORRISTOWN; 2020-07-29...  19401.0   \n",
       "663521  HAVERFORD STATION RD & W MONTGOMERY AVE; LOWER...  19041.0   \n",
       "\n",
       "                              title           timeStamp                twp  \\\n",
       "0            EMS: BACK PAINS/INJURY 2015-12-10 17:10:52        NEW HANOVER   \n",
       "1           EMS: DIABETIC EMERGENCY 2015-12-10 17:29:21  HATFIELD TOWNSHIP   \n",
       "2               Fire: GAS-ODOR/LEAK 2015-12-10 14:39:21         NORRISTOWN   \n",
       "3            EMS: CARDIAC EMERGENCY 2015-12-10 16:47:36         NORRISTOWN   \n",
       "4                    EMS: DIZZINESS 2015-12-10 16:56:52   LOWER POTTSGROVE   \n",
       "...                             ...                 ...                ...   \n",
       "663517  Traffic: VEHICLE ACCIDENT - 2020-07-29 15:46:51      EAST NORRITON   \n",
       "663518        EMS: GENERAL WEAKNESS 2020-07-29 15:52:19   LOWER PROVIDENCE   \n",
       "663519        EMS: VEHICLE ACCIDENT 2020-07-29 15:52:52       LOWER MERION   \n",
       "663520          Fire: BUILDING FIRE 2020-07-29 15:54:08         NORRISTOWN   \n",
       "663521  Traffic: VEHICLE ACCIDENT - 2020-07-29 15:52:46       LOWER MERION   \n",
       "\n",
       "                                           addr  e   reason  \\\n",
       "0                        REINDEER CT & DEAD END  1      EMS   \n",
       "1                    BRIAR PATH & WHITEMARSH LN  1      EMS   \n",
       "2                                      HAWS AVE  1     Fire   \n",
       "3                            AIRY ST & SWEDE ST  1      EMS   \n",
       "4                      CHERRYWOOD CT & DEAD END  1      EMS   \n",
       "...                                         ... ..      ...   \n",
       "663517                SUNSET AVE & WOODLAND AVE  1  Traffic   \n",
       "663518              EAGLEVILLE RD & BUNTING CIR  1      EMS   \n",
       "663519                     HAVERFORD STATION RD  1      EMS   \n",
       "663520                   MARSHALL ST & HAWS AVE  1     Fire   \n",
       "663521  HAVERFORD STATION RD & W MONTGOMERY AVE  1  Traffic   \n",
       "\n",
       "                        Dpt  year  Hour  Month Day of Week  \n",
       "0         BACK PAINS/INJURY  2015    17     12         Thu  \n",
       "1        DIABETIC EMERGENCY  2015    17     12         Thu  \n",
       "2             GAS-ODOR/LEAK  2015    14     12         Thu  \n",
       "3         CARDIAC EMERGENCY  2015    16     12         Thu  \n",
       "4                 DIZZINESS  2015    16     12         Thu  \n",
       "...                     ...   ...   ...    ...         ...  \n",
       "663517   VEHICLE ACCIDENT -  2020    15      7         Wed  \n",
       "663518     GENERAL WEAKNESS  2020    15      7         Wed  \n",
       "663519     VEHICLE ACCIDENT  2020    15      7         Wed  \n",
       "663520        BUILDING FIRE  2020    15      7         Wed  \n",
       "663521   VEHICLE ACCIDENT -  2020    15      7         Wed  \n",
       "\n",
       "[663522 rows x 15 columns]"
      ]
     },
     "execution_count": 109,
     "metadata": {},
     "output_type": "execute_result"
    }
   ],
   "source": [
    "df"
   ]
  },
  {
   "cell_type": "markdown",
   "id": "97a27456",
   "metadata": {},
   "source": [
    "**This graph shows reasons of 911 calls classed by day of the week. First of all, we can see that there is no correlation between EMS and days. EMS are happening every day approximatively equals. Secondly, we can see that Traffic calls tend to be less by the end of the week (Saturday and Sunday). People take their vehicle less on week-end\"**."
   ]
  },
  {
   "cell_type": "code",
   "execution_count": 140,
   "id": "276bf105",
   "metadata": {},
   "outputs": [
    {
     "data": {
      "image/png": "[encoded data removed]",
      "text/plain": [
       "<Figure size 432x288 with 1 Axes>"
      ]
     },
     "metadata": {
      "needs_background": "light"
     },
     "output_type": "display_data"
    }
   ],
   "source": [
    "sns.countplot(x='Day of Week',data=df,hue='reason')\n",
    "plt.legend(bbox_to_anchor=(1.05, 1), loc=2, borderaxespad=0.)\n",
    "plt.title('Reasons of 911 calls classed by day ')\n",
    "plt.ylabel('Count')\n",
    "plt.show()\n"
   ]
  },
  {
   "cell_type": "markdown",
   "id": "63a08d66",
   "metadata": {},
   "source": [
    "**This graph shows reasons of 911 calls classed by month.**"
   ]
  },
  {
   "cell_type": "code",
   "execution_count": 143,
   "id": "6f63b189",
   "metadata": {},
   "outputs": [
    {
     "data": {
      "image/png": "[encoded data removed]",
      "text/plain": [
       "<Figure size 432x288 with 1 Axes>"
      ]
     },
     "metadata": {
      "needs_background": "light"
     },
     "output_type": "display_data"
    }
   ],
   "source": [
    "sns.countplot(x='Month',data=df,hue='reason')\n",
    "plt.legend(bbox_to_anchor=(1.05, 1), loc=2, borderaxespad=0.)\n",
    "plt.title('Reasons of 911 calls classed by Month ')\n",
    "plt.ylabel('Count')\n",
    "plt.show()\n"
   ]
  },
  {
   "cell_type": "markdown",
   "id": "6aa7b390",
   "metadata": {},
   "source": [
    "**Now I want to show information by month with using groupby method.**"
   ]
  },
  {
   "cell_type": "code",
   "execution_count": 112,
   "id": "76f38a74",
   "metadata": {},
   "outputs": [],
   "source": [
    "byMonth = df.groupby('Month').count()"
   ]
  },
  {
   "cell_type": "code",
   "execution_count": 113,
   "id": "c9f825e8",
   "metadata": {},
   "outputs": [
    {
     "data": {
      "text/html": [
       "<div>\n",
       "<style scoped>\n",
       "    .dataframe tbody tr th:only-of-type {\n",
       "        vertical-align: middle;\n",
       "    }\n",
       "\n",
       "    .dataframe tbody tr th {\n",
       "        vertical-align: top;\n",
       "    }\n",
       "\n",
       "    .dataframe thead th {\n",
       "        text-align: right;\n",
       "    }\n",
       "</style>\n",
       "<table border=\"1\" class=\"dataframe\">\n",
       "  <thead>\n",
       "    <tr style=\"text-align: right;\">\n",
       "      <th></th>\n",
       "      <th>lat</th>\n",
       "      <th>lng</th>\n",
       "      <th>desc</th>\n",
       "      <th>zip</th>\n",
       "      <th>title</th>\n",
       "      <th>timeStamp</th>\n",
       "      <th>twp</th>\n",
       "      <th>addr</th>\n",
       "      <th>e</th>\n",
       "      <th>reason</th>\n",
       "      <th>Dpt</th>\n",
       "      <th>year</th>\n",
       "      <th>Hour</th>\n",
       "      <th>Day of Week</th>\n",
       "    </tr>\n",
       "    <tr>\n",
       "      <th>Month</th>\n",
       "      <th></th>\n",
       "      <th></th>\n",
       "      <th></th>\n",
       "      <th></th>\n",
       "      <th></th>\n",
       "      <th></th>\n",
       "      <th></th>\n",
       "      <th></th>\n",
       "      <th></th>\n",
       "      <th></th>\n",
       "      <th></th>\n",
       "      <th></th>\n",
       "      <th></th>\n",
       "      <th></th>\n",
       "    </tr>\n",
       "  </thead>\n",
       "  <tbody>\n",
       "    <tr>\n",
       "      <th>1</th>\n",
       "      <td>62336</td>\n",
       "      <td>62336</td>\n",
       "      <td>62336</td>\n",
       "      <td>55294</td>\n",
       "      <td>62336</td>\n",
       "      <td>62336</td>\n",
       "      <td>62312</td>\n",
       "      <td>62336</td>\n",
       "      <td>62336</td>\n",
       "      <td>62336</td>\n",
       "      <td>62336</td>\n",
       "      <td>62336</td>\n",
       "      <td>62336</td>\n",
       "      <td>62336</td>\n",
       "    </tr>\n",
       "    <tr>\n",
       "      <th>2</th>\n",
       "      <td>55427</td>\n",
       "      <td>55427</td>\n",
       "      <td>55427</td>\n",
       "      <td>48922</td>\n",
       "      <td>55427</td>\n",
       "      <td>55427</td>\n",
       "      <td>55405</td>\n",
       "      <td>55427</td>\n",
       "      <td>55427</td>\n",
       "      <td>55427</td>\n",
       "      <td>55427</td>\n",
       "      <td>55427</td>\n",
       "      <td>55427</td>\n",
       "      <td>55427</td>\n",
       "    </tr>\n",
       "    <tr>\n",
       "      <th>3</th>\n",
       "      <td>60027</td>\n",
       "      <td>60027</td>\n",
       "      <td>60027</td>\n",
       "      <td>53252</td>\n",
       "      <td>60027</td>\n",
       "      <td>60027</td>\n",
       "      <td>60001</td>\n",
       "      <td>60027</td>\n",
       "      <td>60027</td>\n",
       "      <td>60027</td>\n",
       "      <td>60027</td>\n",
       "      <td>60027</td>\n",
       "      <td>60027</td>\n",
       "      <td>60027</td>\n",
       "    </tr>\n",
       "    <tr>\n",
       "      <th>4</th>\n",
       "      <td>53671</td>\n",
       "      <td>53671</td>\n",
       "      <td>53671</td>\n",
       "      <td>47349</td>\n",
       "      <td>53671</td>\n",
       "      <td>53671</td>\n",
       "      <td>53655</td>\n",
       "      <td>53671</td>\n",
       "      <td>53671</td>\n",
       "      <td>53671</td>\n",
       "      <td>53671</td>\n",
       "      <td>53671</td>\n",
       "      <td>53671</td>\n",
       "      <td>53671</td>\n",
       "    </tr>\n",
       "    <tr>\n",
       "      <th>5</th>\n",
       "      <td>57509</td>\n",
       "      <td>57509</td>\n",
       "      <td>57509</td>\n",
       "      <td>50354</td>\n",
       "      <td>57509</td>\n",
       "      <td>57509</td>\n",
       "      <td>57474</td>\n",
       "      <td>57509</td>\n",
       "      <td>57509</td>\n",
       "      <td>57509</td>\n",
       "      <td>57509</td>\n",
       "      <td>57509</td>\n",
       "      <td>57509</td>\n",
       "      <td>57509</td>\n",
       "    </tr>\n",
       "  </tbody>\n",
       "</table>\n",
       "</div>"
      ],
      "text/plain": [
       "         lat    lng   desc    zip  title  timeStamp    twp   addr      e  \\\n",
       "Month                                                                      \n",
       "1      62336  62336  62336  55294  62336      62336  62312  62336  62336   \n",
       "2      55427  55427  55427  48922  55427      55427  55405  55427  55427   \n",
       "3      60027  60027  60027  53252  60027      60027  60001  60027  60027   \n",
       "4      53671  53671  53671  47349  53671      53671  53655  53671  53671   \n",
       "5      57509  57509  57509  50354  57509      57509  57474  57509  57509   \n",
       "\n",
       "       reason    Dpt   year   Hour  Day of Week  \n",
       "Month                                            \n",
       "1       62336  62336  62336  62336        62336  \n",
       "2       55427  55427  55427  55427        55427  \n",
       "3       60027  60027  60027  60027        60027  \n",
       "4       53671  53671  53671  53671        53671  \n",
       "5       57509  57509  57509  57509        57509  "
      ]
     },
     "execution_count": 113,
     "metadata": {},
     "output_type": "execute_result"
    }
   ],
   "source": [
    "byMonth.head()"
   ]
  },
  {
   "cell_type": "markdown",
   "id": "f41fa9c4",
   "metadata": {},
   "source": [
    "**This graph shows Calls per month. The peak is in January where there is approx. 62 000 calls.**"
   ]
  },
  {
   "cell_type": "code",
   "execution_count": 114,
   "id": "2920497d",
   "metadata": {
    "scrolled": true
   },
   "outputs": [
    {
     "data": {
      "image/png": "[encoded data removed]",
      "text/plain": [
       "<Figure size 432x288 with 1 Axes>"
      ]
     },
     "metadata": {
      "needs_background": "light"
     },
     "output_type": "display_data"
    }
   ],
   "source": [
    "byMonth['desc'].plot()\n",
    "plt.xlabel('Month')\n",
    "plt.ylabel('Count')\n",
    "plt.title('Calls per month ')\n",
    "plt.grid(True)\n",
    "plt.xticks(range(1,13))\n",
    "plt.axis([1, 12, 47000, 63000])\n",
    "plt.show()"
   ]
  },
  {
   "cell_type": "markdown",
   "id": "332b6558",
   "metadata": {},
   "source": [
    "**Based on the result of my analysis and my comprehension of the dataframe, I want to make prediction on call per month. So I use Seaborn and the lmplot method to draw a linear regression on calls per month. We can clearly see that my result are quite good because of the dot who are outside the blue range. This is probably due to the missing data and Nan value. Also we can see that my prediction in december and january tend to be less acurate because of the large range of value.**"
   ]
  },
  {
   "cell_type": "code",
   "execution_count": 115,
   "id": "0c05d2c8",
   "metadata": {},
   "outputs": [
    {
     "data": {
      "image/png": "[encoded data removed]",
      "text/plain": [
       "<Figure size 360x360 with 1 Axes>"
      ]
     },
     "metadata": {
      "needs_background": "light"
     },
     "output_type": "display_data"
    }
   ],
   "source": [
    "sns.lmplot(x='Month', y='desc', data=byMonth.reset_index(), fit_reg=True)\n",
    "plt.xlabel('Month')\n",
    "plt.ylabel('Count')\n",
    "plt.title('Calls per month')\n",
    "plt.xticks(range(1,13))\n",
    "plt.show()"
   ]
  },
  {
   "cell_type": "markdown",
   "id": "d5651de4",
   "metadata": {},
   "source": [
    "**Here I want to see the number of calls by year where the reason is Fire.**"
   ]
  },
  {
   "cell_type": "code",
   "execution_count": 147,
   "id": "5eda57c3",
   "metadata": {},
   "outputs": [
    {
     "data": {
      "image/png": "[encoded data removed]",
      "text/plain": [
       "<Figure size 432x288 with 1 Axes>"
      ]
     },
     "metadata": {
      "needs_background": "light"
     },
     "output_type": "display_data"
    }
   ],
   "source": [
    "df[df['reason']=='Fire'].groupby('year').count()['desc'].plot()\n",
    "plt.title('Fire')\n",
    "plt.xlabel('Year')\n",
    "plt.ylabel('Count')\n",
    "plt.grid(True)\n",
    "plt.show()"
   ]
  },
  {
   "cell_type": "markdown",
   "id": "8854db49",
   "metadata": {},
   "source": [
    "**Here I want to see the number of calls by year where the reason is Traffic.**"
   ]
  },
  {
   "cell_type": "code",
   "execution_count": 148,
   "id": "19a8a8e2",
   "metadata": {},
   "outputs": [
    {
     "data": {
      "image/png": "[encoded data removed]",
      "text/plain": [
       "<Figure size 432x288 with 1 Axes>"
      ]
     },
     "metadata": {
      "needs_background": "light"
     },
     "output_type": "display_data"
    }
   ],
   "source": [
    "df[df['reason']=='Traffic'].groupby('year').count()['desc'].plot()\n",
    "plt.title('Traffic')\n",
    "plt.xlabel('Year')\n",
    "plt.ylabel('Count')\n",
    "plt.grid(True)\n",
    "plt.show()"
   ]
  },
  {
   "cell_type": "markdown",
   "id": "630f9e30",
   "metadata": {},
   "source": [
    "**Here I want to see the number of calls by year where the reason is EMS.**"
   ]
  },
  {
   "cell_type": "code",
   "execution_count": 133,
   "id": "c92c0a00",
   "metadata": {},
   "outputs": [
    {
     "data": {
      "image/png": "[encoded data removed]",
      "text/plain": [
       "<Figure size 432x288 with 1 Axes>"
      ]
     },
     "metadata": {
      "needs_background": "light"
     },
     "output_type": "display_data"
    }
   ],
   "source": [
    "df[df['reason']=='EMS'].groupby('year').count()['desc'].plot()\n",
    "plt.title('EMS')\n",
    "plt.xlabel('Year')\n",
    "plt.ylabel('Count')\n",
    "plt.grid(True)\n",
    "plt.show()"
   ]
  },
  {
   "cell_type": "markdown",
   "id": "6e4f53e3",
   "metadata": {},
   "source": [
    "*Made by Antoine Presty. 2022-11-06*"
   ]
  }
 ],
 "metadata": {
  "kernelspec": {
   "display_name": "Python 3 (ipykernel)",
   "language": "python",
   "name": "python3"
  },
  "language_info": {
   "codemirror_mode": {
    "name": "ipython",
    "version": 3
   },
   "file_extension": ".py",
   "mimetype": "text/x-python",
   "name": "python",
   "nbconvert_exporter": "python",
   "pygments_lexer": "ipython3",
   "version": "3.9.12"
  }
 },
 "nbformat": 4,
 "nbformat_minor": 5
}
